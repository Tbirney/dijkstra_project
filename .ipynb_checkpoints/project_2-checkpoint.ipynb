{
 "cells": [
  {
   "cell_type": "code",
   "execution_count": 448,
   "metadata": {},
   "outputs": [],
   "source": [
    "import numpy as np\n",
    "import matplotlib.pyplot as plt\n",
    "from matplotlib.animation import FuncAnimation\n",
    "from copy import deepcopy\n",
    "import cv2\n",
    "from cv2 import VideoWriter, VideoWriter_fourcc"
   ]
  },
  {
   "cell_type": "code",
   "execution_count": 449,
   "metadata": {},
   "outputs": [],
   "source": [
    "# node class that each spot in the map will occupy\n",
    "# cell location and goal_location are tuples representing index \n",
    "# of current cell location and goal cell locations\n",
    "class Node:\n",
    "    def __init__(self, parent, c2c, is_obstacle, is_margin, cell_location):\n",
    "        self.parent = parent\n",
    "        self.c2c = c2c\n",
    "        self.is_obstacle = is_obstacle\n",
    "        self.is_margin = is_margin\n",
    "        self.cell_location = cell_location"
   ]
  },
  {
   "cell_type": "code",
   "execution_count": 450,
   "metadata": {},
   "outputs": [],
   "source": [
    "def generate_line_eq(p1, p2):\n",
    "    \n",
    "    x1 = p1[0]\n",
    "    y1 = p1[1]\n",
    "    \n",
    "    x2 = p2[0]\n",
    "    y2 = p2[1]\n",
    "    \n",
    "    m = (y2-y1)/(x2-x1)\n",
    "    b = y1-m*x1\n",
    "    \n",
    "    lin_func = lambda x: m*x+b\n",
    "    \n",
    "    return lin_func"
   ]
  },
  {
   "cell_type": "code",
   "execution_count": 535,
   "metadata": {},
   "outputs": [],
   "source": [
    "def check_obstacle(x, y):\n",
    "    \n",
    "    # check circle\n",
    "    if y <= 225 and y >= 145 and x <= np.sqrt(40**2 - (y-185)**2) + 300 and x >= -np.sqrt(40**2 - (y-185)**2) + 300:\n",
    "        return True\n",
    "    \n",
    "    # check triangles\n",
    "    t1_line = generate_line_eq((36, 185), (115, 210))\n",
    "    t2_line = generate_line_eq((36, 185), (102, 100))\n",
    "    t3_line = generate_line_eq((80, 180), (115, 210))\n",
    "    t4_line = generate_line_eq((80, 180), (105, 100))\n",
    "    if x in range(36, 81):\n",
    "        if y in range(int(np.floor(t2_line(int(x)))), int(np.ceil(t1_line(int(x))))+1):\n",
    "            return True\n",
    "    if x in range(80, 116):\n",
    "        if y in range(int(np.floor(t3_line(int(x)))), int(np.ceil(t1_line(int(x))))+1):\n",
    "            return True\n",
    "    if x in range(80, 106):\n",
    "        if y in range(int(np.floor(t2_line(int(x)))), int(np.ceil(t4_line(int(x))))+1):\n",
    "            return True\n",
    "    \n",
    "    # check hexagon\n",
    "    \n",
    "\n",
    "    \n",
    "    \n",
    "    return False"
   ]
  },
  {
   "cell_type": "code",
   "execution_count": 536,
   "metadata": {},
   "outputs": [],
   "source": [
    "# iterate over the board, and if the cell is an obstacle, generate \n",
    "# the a circle of points around it which are padding\n",
    "\n",
    "def generate_margin(board, radius):\n",
    "\n",
    "    for y in range(len(board)):\n",
    "        for x in range(len(board[y])):\n",
    "\n",
    "            if board[y][x].is_obstacle:\n",
    "\n",
    "                # generate circle bounds for a point if it is an obstacle\n",
    "                x_range = range(x-radius, x+radius+1)\n",
    "\n",
    "                for x_i in x_range:\n",
    "                    y_upper_limit = np.ceil(np.sqrt(radius**2-(x_i-x)**2) + y)\n",
    "                    y_lower_limit = np.floor(-np.sqrt(radius**2-(x_i-x)**2) + y)\n",
    "\n",
    "                    y_range = np.arange(y_lower_limit, y_upper_limit+1)\n",
    "                    for y_i in y_range:\n",
    "                        if (x_i >= 0 and x_i <= 399) and (y_i >= 0 and y_i <= 249):\n",
    "                            board[int(y_i)][x_i].is_margin = True"
   ]
  },
  {
   "cell_type": "code",
   "execution_count": 537,
   "metadata": {},
   "outputs": [],
   "source": [
    "# create the board\n",
    "\n",
    "def create_board(width, height):\n",
    "\n",
    "    board = []\n",
    "    for row_num in range(0, height):\n",
    "        temp_row = []\n",
    "        for col_num in range(0, width):\n",
    "\n",
    "            c2c = np.Infinity\n",
    "            \n",
    "            is_obstacle = check_obstacle(col_num, row_num)\n",
    "\n",
    "            new_node = Node(parent=None, \n",
    "                            c2c=c2c, \n",
    "                            is_obstacle=is_obstacle,\n",
    "                            is_margin=False,\n",
    "                            cell_location=(row_num, col_num))\n",
    "    \n",
    "            temp_row.append(new_node)\n",
    "\n",
    "        board.append(temp_row)\n",
    "    \n",
    "    generate_margin(board, 5)\n",
    "\n",
    "    return board"
   ]
  },
  {
   "cell_type": "code",
   "execution_count": 538,
   "metadata": {},
   "outputs": [],
   "source": [
    "def create_color_map(board):\n",
    "\n",
    "    color_map = np.zeros(shape=[250, 400, 3], dtype=np.uint8)\n",
    "\n",
    "    for row in range(250):\n",
    "        for col in range(400):\n",
    "            \n",
    "            if board[row][col].is_margin and not board[row][col].is_obstacle:\n",
    "                color_map[row][col][0] = 0\n",
    "                color_map[row][col][1] = 0\n",
    "                color_map[row][col][2] = 255\n",
    "            elif board[row][col].is_obstacle:\n",
    "                color_map[row][col][0] = 255\n",
    "                color_map[row][col][1] = 0\n",
    "                color_map[row][col][2] = 0\n",
    "            else:\n",
    "                color_map[row][col][0] = 0\n",
    "                color_map[row][col][1] = 0\n",
    "                color_map[row][col][2] = 0\n",
    "    \n",
    "    return color_map\n"
   ]
  },
  {
   "cell_type": "code",
   "execution_count": 539,
   "metadata": {},
   "outputs": [],
   "source": [
    "def update_color_map(curr_node, color_map,  brg_color):\n",
    "\n",
    "    row = curr_node.cell_location[0]\n",
    "    col = curr_node.cell_location[1]\n",
    "\n",
    "    color_map[row][col][0] = brg_color[0]\n",
    "    color_map[row][col][1] = brg_color[1]\n",
    "    color_map[row][col][2] = brg_color[2]\n",
    "    return color_map\n"
   ]
  },
  {
   "cell_type": "code",
   "execution_count": 540,
   "metadata": {},
   "outputs": [],
   "source": [
    "def get_start_node(x, y, board):\n",
    "    if (x >= 0 and x < 400) and (y >= 0 and y < 250):\n",
    "        if not board[x][y].is_obstacle:\n",
    "            return board[x][y]\n",
    "        else:\n",
    "            print('Board Location is in an obstacle. Choose another location')\n",
    "            return\n",
    "            \n",
    "    print('Board Location Out of bounds. Choose another Location')\n",
    "    return"
   ]
  },
  {
   "cell_type": "code",
   "execution_count": 541,
   "metadata": {},
   "outputs": [],
   "source": [
    "def check_up(board, curr_node):\n",
    "    \n",
    "    row = curr_node.cell_location[0]\n",
    "    col = curr_node.cell_location[1]\n",
    "    \n",
    "    # check out of bounds\n",
    "    if row < 249:\n",
    "        \n",
    "        # check if obstacle\n",
    "        new_node = board[row+1][col]\n",
    "        \n",
    "        if not new_node.is_margin:\n",
    "            \n",
    "            new_c2c = 1 + curr_node.c2c\n",
    "            \n",
    "            if new_c2c < new_node.c2c:\n",
    "                new_node.c2c = new_c2c\n",
    "                new_node.parent = curr_node\n",
    "                \n",
    "            return new_node\n",
    "\n",
    "    return None"
   ]
  },
  {
   "cell_type": "code",
   "execution_count": 542,
   "metadata": {},
   "outputs": [],
   "source": [
    "def check_down(board, curr_node):\n",
    "    \n",
    "    row = curr_node.cell_location[0]\n",
    "    col = curr_node.cell_location[1]\n",
    "    \n",
    "    # check out of bounds\n",
    "    if row > 0:\n",
    "        \n",
    "        # check if obstacle\n",
    "        new_node = board[row-1][col]\n",
    "        \n",
    "        if not new_node.is_margin:\n",
    "            \n",
    "            new_c2c = 1 + curr_node.c2c\n",
    "            \n",
    "            if new_c2c < new_node.c2c:\n",
    "                new_node.c2c = new_c2c\n",
    "                new_node.parent = curr_node\n",
    "                \n",
    "            return new_node\n",
    "\n",
    "    return None"
   ]
  },
  {
   "cell_type": "code",
   "execution_count": 543,
   "metadata": {},
   "outputs": [],
   "source": [
    "def check_left(board, curr_node):\n",
    "    \n",
    "    row = curr_node.cell_location[0]\n",
    "    col = curr_node.cell_location[1]\n",
    "    \n",
    "    # check out of bounds\n",
    "    if col > 0:\n",
    "        \n",
    "        # check if obstacle\n",
    "        new_node = board[row][col-1]\n",
    "        \n",
    "        if not new_node.is_margin:\n",
    "            \n",
    "            new_c2c = 1 + curr_node.c2c\n",
    "            \n",
    "            if new_c2c < new_node.c2c:\n",
    "                new_node.c2c = new_c2c\n",
    "                new_node.parent = curr_node\n",
    "                \n",
    "            return new_node\n",
    "\n",
    "    return None"
   ]
  },
  {
   "cell_type": "code",
   "execution_count": 544,
   "metadata": {},
   "outputs": [],
   "source": [
    "def check_right(board, curr_node):\n",
    "    \n",
    "    row = curr_node.cell_location[0]\n",
    "    col = curr_node.cell_location[1]\n",
    "    \n",
    "    # check out of bounds\n",
    "    if col < 399:\n",
    "        \n",
    "        # check if obstacle\n",
    "        new_node = board[row][col+1]\n",
    "        \n",
    "        if not new_node.is_margin:\n",
    "            \n",
    "            new_c2c = 1 + curr_node.c2c\n",
    "            \n",
    "            if new_c2c < new_node.c2c:\n",
    "                new_node.c2c = new_c2c\n",
    "                new_node.parent = curr_node\n",
    "                \n",
    "            return new_node\n",
    "\n",
    "    return None"
   ]
  },
  {
   "cell_type": "code",
   "execution_count": 545,
   "metadata": {},
   "outputs": [],
   "source": [
    "def check_up_left(board, curr_node):\n",
    "    \n",
    "    row = curr_node.cell_location[0]\n",
    "    col = curr_node.cell_location[1]\n",
    "    \n",
    "    # check out of bounds\n",
    "    if col > 0 and row < 249:\n",
    "        \n",
    "        # check if obstacle\n",
    "        new_node = board[row+1][col-1]\n",
    "        \n",
    "        if not new_node.is_margin:\n",
    "            \n",
    "            new_c2c = 1.4 + curr_node.c2c\n",
    "            \n",
    "            if new_c2c < new_node.c2c:\n",
    "                new_node.c2c = new_c2c\n",
    "                new_node.parent = curr_node\n",
    "                \n",
    "            return new_node\n",
    "\n",
    "    return None"
   ]
  },
  {
   "cell_type": "code",
   "execution_count": 546,
   "metadata": {},
   "outputs": [],
   "source": [
    "def check_up_right(board, curr_node):\n",
    "    \n",
    "    row = curr_node.cell_location[0]\n",
    "    col = curr_node.cell_location[1]\n",
    "    \n",
    "    # check out of bounds\n",
    "    if col < 399 and row < 249:\n",
    "        \n",
    "        # check if obstacle\n",
    "        new_node = board[row+1][col+1]\n",
    "        \n",
    "        if not new_node.is_margin:\n",
    "            \n",
    "            new_c2c = 1.4 + curr_node.c2c\n",
    "            \n",
    "            if new_c2c < new_node.c2c:\n",
    "                new_node.c2c = new_c2c\n",
    "                new_node.parent = curr_node\n",
    "                \n",
    "            return new_node\n",
    "\n",
    "    return None"
   ]
  },
  {
   "cell_type": "code",
   "execution_count": 547,
   "metadata": {},
   "outputs": [],
   "source": [
    "def check_down_left(board, curr_node):\n",
    "    \n",
    "    row = curr_node.cell_location[0]\n",
    "    col = curr_node.cell_location[1]\n",
    "    \n",
    "    # check out of bounds\n",
    "    if col > 0 and row > 0:\n",
    "        \n",
    "        # check if obstacle\n",
    "        new_node = board[row-1][col-1]\n",
    "        \n",
    "        if not new_node.is_margin:\n",
    "            \n",
    "            new_c2c = 1.4 + curr_node.c2c\n",
    "            \n",
    "            if new_c2c < new_node.c2c:\n",
    "                new_node.c2c = new_c2c\n",
    "                new_node.parent = curr_node\n",
    "                \n",
    "            return new_node\n",
    "\n",
    "    return None"
   ]
  },
  {
   "cell_type": "code",
   "execution_count": 548,
   "metadata": {},
   "outputs": [],
   "source": [
    "def check_down_right(board, curr_node):\n",
    "    \n",
    "    row = curr_node.cell_location[0]\n",
    "    col = curr_node.cell_location[1]\n",
    "    \n",
    "    # check out of bounds\n",
    "    if col < 399 and row > 0:\n",
    "        \n",
    "        # check if obstacle\n",
    "        new_node = board[row-1][col+1]\n",
    "        \n",
    "        if not new_node.is_margin:\n",
    "            \n",
    "            new_c2c = 1.4 + curr_node.c2c\n",
    "            \n",
    "            if new_c2c <= new_node.c2c:\n",
    "                new_node.c2c = new_c2c\n",
    "                new_node.parent = curr_node\n",
    "                \n",
    "            return new_node\n",
    "\n",
    "    return None"
   ]
  },
  {
   "cell_type": "code",
   "execution_count": 549,
   "metadata": {},
   "outputs": [],
   "source": [
    "def gen_next_nodes(board, curr_node):\n",
    "\n",
    "    new_nodes = []\n",
    "\n",
    "    new_nodes.append(check_up(board, curr_node))\n",
    "    new_nodes.append(check_down(board, curr_node))\n",
    "    new_nodes.append(check_left(board, curr_node))\n",
    "    new_nodes.append(check_right(board, curr_node))\n",
    "    new_nodes.append(check_up_left(board, curr_node))\n",
    "    new_nodes.append(check_up_right(board, curr_node))\n",
    "    new_nodes.append(check_down_left(board, curr_node))\n",
    "    new_nodes.append(check_down_right(board, curr_node))\n",
    "\n",
    "    return list(filter(lambda node: node is not None, new_nodes))"
   ]
  },
  {
   "cell_type": "code",
   "execution_count": 550,
   "metadata": {},
   "outputs": [],
   "source": [
    "def get_solution_path(curr_node):\n",
    "    solution_path= []\n",
    "    \n",
    "    while curr_node:\n",
    "        solution_path.insert(0, curr_node)\n",
    "        curr_node = curr_node.parent\n",
    "        \n",
    "    return solution_path"
   ]
  },
  {
   "cell_type": "code",
   "execution_count": 551,
   "metadata": {},
   "outputs": [],
   "source": [
    "def animate(closed_nodes, solution_path, filename):\n",
    "    out = cv2.VideoWriter(f'{filename}.avi',cv2.VideoWriter_fourcc(*'DIVX'), 60, (400, 250))\n",
    " \n",
    "    for node in closed_nodes:\n",
    "        out.write(np.flipud(update_color_map(node, color_map, [255, 255, 255])))\n",
    "\n",
    "    for node in solution_path:\n",
    "        out.write(np.flipud(update_color_map(node, color_map, [0, 255, 0])))\n",
    "        \n",
    "    out.release()"
   ]
  },
  {
   "cell_type": "code",
   "execution_count": 552,
   "metadata": {},
   "outputs": [
    {
     "name": "stdout",
     "output_type": "stream",
     "text": [
      "Searching (100,100)\n"
     ]
    }
   ],
   "source": [
    "# construct the graph of nodes as well as an array of blank rbg values that will represent the board\n",
    "# perform disjkstra using the node grah, but update the color array as we pop nodes\n",
    "\n",
    "start_location = (100, 100)\n",
    "width = 400\n",
    "height = 250\n",
    "goal_location = (101, 101)\n",
    "\n",
    "# create the starting board and color map based off of the starting board\n",
    "board = create_board(width, height)\n",
    "color_map = create_color_map(board)\n",
    "\n",
    "start_node = get_start_node(start_location[0], start_location[1], board)\n",
    "start_node.c2c = 0\n",
    "\n",
    "open_nodes = [start_node]\n",
    "closed_nodes = []\n",
    "\n",
    "while len(open_nodes) > 0:\n",
    "    # generate the colors of the current board and append it to the list\n",
    "    # this will be a frame of an animation\n",
    "    # color_maps.append(gen_color_map(board)\n",
    "    open_nodes.sort(key=lambda x: x.c2c)\n",
    "    curr_node = open_nodes.pop(0)\n",
    "    closed_nodes.append(curr_node)\n",
    "\n",
    "\n",
    "    row = curr_node.cell_location[0]\n",
    "    col = curr_node.cell_location[1]\n",
    "    print(f\"Searching ({row},{col})\")\n",
    "\n",
    "    if curr_node.cell_location == goal_location:\n",
    "        print('Found Solution')\n",
    "        break\n",
    "    else:\n",
    "        next_possible_nodes = gen_next_nodes(board, curr_node)\n",
    "        for node in next_possible_nodes:\n",
    "\n",
    "            appendable = True\n",
    "\n",
    "            for o_node in open_nodes:\n",
    "                if o_node == node:\n",
    "                    appendable = False\n",
    "                    break\n",
    "            if appendable:\n",
    "                for c_node in closed_nodes:\n",
    "                    if c_node == node:\n",
    "                        appendable = False\n",
    "                        break\n",
    "\n",
    "            if appendable:\n",
    "                open_nodes.append(node)\n",
    "\n"
   ]
  },
  {
   "cell_type": "code",
   "execution_count": 553,
   "metadata": {},
   "outputs": [],
   "source": [
    "solution_path = get_solution_path(curr_node)\n",
    "animate(closed_nodes, solution_path, filename='project')\n"
   ]
  },
  {
   "cell_type": "code",
   "execution_count": 554,
   "metadata": {},
   "outputs": [],
   "source": [
    "board = create_board(width, height)\n",
    "color_map = create_color_map(board)"
   ]
  },
  {
   "cell_type": "code",
   "execution_count": 555,
   "metadata": {},
   "outputs": [
    {
     "data": {
      "text/plain": [
       "<matplotlib.image.AxesImage at 0x7f1249efc040>"
      ]
     },
     "execution_count": 555,
     "metadata": {},
     "output_type": "execute_result"
    },
    {
     "data": {
      "image/png": "[encoded data removed]",
      "text/plain": [
       "<Figure size 1440x1440 with 1 Axes>"
      ]
     },
     "metadata": {
      "needs_background": "light"
     },
     "output_type": "display_data"
    }
   ],
   "source": [
    "fig, ax = plt.subplots(figsize = (20, 20))\n",
    "\n",
    "ax.imshow(color_map, origin = 'bottom')"
   ]
  },
  {
   "cell_type": "code",
   "execution_count": null,
   "metadata": {},
   "outputs": [],
   "source": []
  }
 ],
 "metadata": {
  "interpreter": {
   "hash": "e7370f93d1d0cde622a1f8e1c04877d8463912d04d973331ad4851f04de6915a"
  },
  "kernelspec": {
   "display_name": "Python 3 (ipykernel)",
   "language": "python",
   "name": "python3"
  },
  "language_info": {
   "codemirror_mode": {
    "name": "ipython",
    "version": 3
   },
   "file_extension": ".py",
   "mimetype": "text/x-python",
   "name": "python",
   "nbconvert_exporter": "python",
   "pygments_lexer": "ipython3",
   "version": "3.8.10"
  }
 },
 "nbformat": 4,
 "nbformat_minor": 2
}
