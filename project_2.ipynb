{
 "cells": [
  {
   "cell_type": "code",
   "execution_count": 165,
   "metadata": {},
   "outputs": [],
   "source": [
    "import numpy as np\n",
    "import numpy as np\n",
    "import matplotlib.pyplot as plt\n",
    "import matplotlib.animation as animation"
   ]
  },
  {
   "cell_type": "code",
   "execution_count": 186,
   "metadata": {},
   "outputs": [],
   "source": [
    "# node class that each spot in the map will occupy\n",
    "# cell location and goal_location are tuples representing index \n",
    "# of current cell location and goal cell locations\n",
    "class Node:\n",
    "    def __init__(self, parent, c2c, is_obstacle, cell_location):\n",
    "        self.parent = parent\n",
    "        self.c2c = c2c\n",
    "        self.is_obstacle = is_obstacle\n",
    "        self.cell_location = cell_location\n",
    "        \n",
    "        # if obstacle, set cell color to be blue\n",
    "        if self.is_obstacle:\n",
    "            self.cell_color = [0, 0, 255]\n",
    "        # if unvisited, then set cell color to white\n",
    "        elif self.c2c == np.Infinity:\n",
    "            self.cell_color = [0, 0, 0]\n",
    "        # if visited then set cell color to red\n",
    "        else:\n",
    "            self.cell_color[255, 255, 255]"
   ]
  },
  {
   "cell_type": "code",
   "execution_count": 187,
   "metadata": {},
   "outputs": [],
   "source": [
    "def check_obstacle(w, h):\n",
    "\n",
    "    # check to see if the cell is in the circle\n",
    "    if(np.sqrt((w-200)**2 + (h-50)**2) <= 80):\n",
    "        return True       \n",
    "\n",
    "    # check triangle shape\n",
    "    # divided into three shapes\n",
    "    # left corner\n",
    "    #      checking x bound                 checking below top slope                checking above bottom slope\n",
    "    \n",
    "    \n",
    "    # top_slope_eq = 173.60759493670886 + (210-185)/(115-36)*w\n",
    "    # bottom_slope_eq = 213.72340425531914 + (110-185)/(130-36)*w\n",
    "    # if (w >= 36 and w <=80) and (h <=top_slope_eq) and (h >= bottom_slope_eq):\n",
    "    #     return True\n",
    "    # # now check to see if we are in the bounds of the concave parts\n",
    "    # top_concave_slope_eq = 90 + (210-180)/(115-80)*w\n",
    "    # bottom_concave_slope_eq = 309.3478260869565 + (100-185)/(105-36)*w\n",
    "    # if (w >= 80 and w <= 115) and (h <=top_slope_eq) and (h >= top_concave_slope_eq):\n",
    "    #     return True\n",
    "    # if (w >= 80 and w <= 105) and (h >=bottom_slope_eq) and (h <= bottom_concave_slope_eq):\n",
    "    #     return True\n",
    "\n",
    "\n",
    "    return False"
   ]
  },
  {
   "cell_type": "code",
   "execution_count": 188,
   "metadata": {},
   "outputs": [],
   "source": [
    "# create the board\n",
    "\n",
    "def create_board(width, height, goal_location):\n",
    "\n",
    "    board = []\n",
    "    for h in range(0, height):\n",
    "        row = []\n",
    "        for w in range(0, width):\n",
    "\n",
    "            c2c = np.Infinity\n",
    "            is_obstacle = check_obstacle(w, h)\n",
    "\n",
    "            new_node = Node(parent=None, c2c=c2c, is_obstacle=is_obstacle, cell_location=(w, h))\n",
    "            row.append(new_node)\n",
    "\n",
    "        board.append(row)\n",
    "\n",
    "    return board"
   ]
  },
  {
   "cell_type": "code",
   "execution_count": 189,
   "metadata": {},
   "outputs": [],
   "source": [
    "# pull the color data from the graph and export it to an np.array\n",
    "# so that I can plot the colot of each cell with matplotlib\n",
    "\n",
    "def gen_color_map(board):\n",
    "    color_board = []\n",
    "    for row in board:\n",
    "        data = list(node.cell_color for node in row)\n",
    "        color_board.append(data)\n",
    "\n",
    "    color_array = np.array(color_board)\n",
    "    return color_array"
   ]
  },
  {
   "cell_type": "code",
   "execution_count": 190,
   "metadata": {},
   "outputs": [],
   "source": [
    "def get_start_node(x, y, board):\n",
    "    if (x>=0 and x < 400) and (y >= 0 and y < 249):\n",
    "        if board[x][y].is_obstacle == False:\n",
    "            return board[x][y]\n",
    "        else:\n",
    "            print('Board Location is in an obstacle. Choose another location')\n",
    "            return\n",
    "            \n",
    "    print('Board Location Out of bounds. Choose another Location')\n",
    "    return"
   ]
  },
  {
   "cell_type": "code",
   "execution_count": 191,
   "metadata": {},
   "outputs": [],
   "source": [
    "start_location = (0, 0)\n",
    "width = 400\n",
    "height = 250\n",
    "goal_location = (399, 100)\n",
    "\n",
    "board = create_board(width, height, goal_location=goal_location)\n",
    "color_map = gen_color_map(board)\n",
    "start_node = get_start_node(start_location[0], start_location[1], board)\n",
    "start_node.c2c = 0"
   ]
  },
  {
   "cell_type": "code",
   "execution_count": 192,
   "metadata": {},
   "outputs": [],
   "source": [
    "open_nodes = [start_node]\n",
    "closed_nodes = []\n",
    "curr_node = start_node\n",
    "\n",
    "while len(open_nodes) > 0:\n",
    "    open_nodes.sort(key=lambda x: x.c2c)\n",
    "    curr_node = open_nodes.pop(0)\n",
    "\n",
    "    if curr_node.cell_location == goal_location:\n",
    "        break\n",
    "    else:\n",
    "        next_possible_nodes = gen_next_nodes = \n"
   ]
  },
  {
   "cell_type": "code",
   "execution_count": 160,
   "metadata": {},
   "outputs": [
    {
     "data": {
      "text/plain": [
       "<matplotlib.image.AxesImage at 0x7f3217db5310>"
      ]
     },
     "execution_count": 160,
     "metadata": {},
     "output_type": "execute_result"
    },
    {
     "data": {
      "image/png": "[encoded data removed]",
      "text/plain": [
       "<Figure size 1080x1080 with 1 Axes>"
      ]
     },
     "metadata": {
      "needs_background": "light"
     },
     "output_type": "display_data"
    }
   ],
   "source": [
    "fig, ax = plt.subplots(figsize = (15, 15))\n",
    "ax.imshow(color_map, origin='bottom')"
   ]
  },
  {
   "cell_type": "code",
   "execution_count": null,
   "metadata": {},
   "outputs": [],
   "source": []
  }
 ],
 "metadata": {
  "interpreter": {
   "hash": "e7370f93d1d0cde622a1f8e1c04877d8463912d04d973331ad4851f04de6915a"
  },
  "kernelspec": {
   "display_name": "Python 3.8.10 64-bit",
   "language": "python",
   "name": "python3"
  },
  "language_info": {
   "codemirror_mode": {
    "name": "ipython",
    "version": 3
   },
   "file_extension": ".py",
   "mimetype": "text/x-python",
   "name": "python",
   "nbconvert_exporter": "python",
   "pygments_lexer": "ipython3",
   "version": "3.8.10"
  },
  "orig_nbformat": 4
 },
 "nbformat": 4,
 "nbformat_minor": 2
}
